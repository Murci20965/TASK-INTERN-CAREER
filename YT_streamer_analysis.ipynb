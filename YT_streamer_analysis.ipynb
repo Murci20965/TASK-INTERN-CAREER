{
 "cells": [
  {
   "cell_type": "markdown",
   "id": "76572acf",
   "metadata": {},
   "source": [
    "# Youtube streamer analysis\n",
    "### Top youtube content creators\n",
    "\n",
    "#### Description\n",
    "This dataset contains valuable information about the top youtube streamers, including their ranking, categories, subscribers, country, visits, likes, comments, and more. The task is to perform a comprehensive analysis of the dataset to extract insights about the top youtube content creators."
   ]
  },
  {
   "cell_type": "markdown",
   "id": "6ee4db8a",
   "metadata": {},
   "source": [
    "### Load libraries"
   ]
  },
  {
   "cell_type": "code",
   "execution_count": null,
   "id": "c2a8c7cf",
   "metadata": {},
   "outputs": [],
   "source": [
    "import pandas as pd\n",
    "import numpy as np\n",
    "import seaborn as sns\n",
    "import matplotlib.pyplot as plt"
   ]
  },
  {
   "cell_type": "markdown",
   "id": "6069b713",
   "metadata": {},
   "source": [
    "### Load the dataset"
   ]
  },
  {
   "cell_type": "code",
   "execution_count": null,
   "id": "d44b08c8",
   "metadata": {},
   "outputs": [],
   "source": [
    "df = pd.read_csv('youtubers_df.csv')"
   ]
  },
  {
   "cell_type": "markdown",
   "id": "c0069eb7",
   "metadata": {},
   "source": [
    "### 1. Exploring the dataset"
   ]
  },
  {
   "cell_type": "code",
   "execution_count": null,
   "id": "5c3b8708",
   "metadata": {},
   "outputs": [],
   "source": [
    "# view the first 5 rows of the dataset\n",
    "df.head()"
   ]
  },
  {
   "cell_type": "code",
   "execution_count": null,
   "id": "1a3a730d",
   "metadata": {},
   "outputs": [],
   "source": [
    "# Concise summary of the dataframe\n",
    "df.info()"
   ]
  },
  {
   "cell_type": "code",
   "execution_count": null,
   "id": "960106f1",
   "metadata": {
    "scrolled": true
   },
   "outputs": [],
   "source": [
    "# Check how many rows and columns the dataset contains\n",
    "df.shape"
   ]
  },
  {
   "cell_type": "code",
   "execution_count": null,
   "id": "d5a3720f",
   "metadata": {
    "scrolled": true
   },
   "outputs": [],
   "source": [
    "# Descriptive statistics of the numerical columns of the dataframe\n",
    "df.describe()"
   ]
  },
  {
   "cell_type": "markdown",
   "id": "51700605",
   "metadata": {},
   "source": [
    "##### Identifying key variables"
   ]
  },
  {
   "cell_type": "code",
   "execution_count": null,
   "id": "2aa373f0",
   "metadata": {
    "scrolled": true
   },
   "outputs": [],
   "source": [
    "for category in df['Categories'].unique():\n",
    "    print(category)"
   ]
  },
  {
   "cell_type": "code",
   "execution_count": null,
   "id": "2a1924f3",
   "metadata": {
    "scrolled": true
   },
   "outputs": [],
   "source": [
    "for country in df['Country'].unique():\n",
    "    print(country)"
   ]
  },
  {
   "cell_type": "markdown",
   "id": "0bacff77",
   "metadata": {},
   "source": [
    "##### Checking for missing values"
   ]
  },
  {
   "cell_type": "code",
   "execution_count": null,
   "id": "2905bdeb",
   "metadata": {
    "scrolled": false
   },
   "outputs": [],
   "source": [
    "# Check for the sum of any missing values in the columns\n",
    "df.isnull().sum()"
   ]
  },
  {
   "cell_type": "markdown",
   "id": "3c0192a0",
   "metadata": {},
   "source": [
    "##### data cleaning"
   ]
  },
  {
   "cell_type": "code",
   "execution_count": null,
   "id": "ff2da3a9",
   "metadata": {},
   "outputs": [],
   "source": [
    "# Rename the 'suscribers' column to 'subscribers'\n",
    "df.rename(columns={'Suscribers': 'Subscribers'}, inplace=True)"
   ]
  },
  {
   "cell_type": "markdown",
   "id": "d6ec5fd8",
   "metadata": {},
   "source": [
    "##### Visualizing the visits and subscribers columns and checking for any outliers"
   ]
  },
  {
   "cell_type": "code",
   "execution_count": null,
   "id": "3d1dab0b",
   "metadata": {},
   "outputs": [],
   "source": [
    "# Scatter plot for 'Subscribers'\n",
    "plt.scatter(df['Subscribers'], df['Visits'])\n",
    "plt.xlabel('Subscribers')\n",
    "plt.ylabel('Visits')\n",
    "plt.title('Subscribers vs Visits')\n",
    "plt.show()"
   ]
  },
  {
   "cell_type": "code",
   "execution_count": null,
   "id": "d3b61ac8",
   "metadata": {
    "scrolled": true
   },
   "outputs": [],
   "source": [
    "# Box plot for 'Subscribers'\n",
    "plt.boxplot(df['Subscribers'])\n",
    "plt.ylabel('Subscribers')\n",
    "plt.title('Box Plot for Subscribers')\n",
    "plt.show()"
   ]
  },
  {
   "cell_type": "code",
   "execution_count": null,
   "id": "fd7c925f",
   "metadata": {
    "scrolled": true
   },
   "outputs": [],
   "source": [
    "# Box plot for 'Visits'\n",
    "plt.boxplot(df['Visits'])\n",
    "plt.ylabel('Visits')\n",
    "plt.title('Box Plot for Visits')\n",
    "plt.show()"
   ]
  },
  {
   "cell_type": "code",
   "execution_count": null,
   "id": "de99230b",
   "metadata": {
    "scrolled": false
   },
   "outputs": [],
   "source": [
    "plt.figure(figsize=(8, 6))\n",
    "plt.boxplot(df['Subscribers'])\n",
    "plt.ylabel('Subscribers')\n",
    "plt.title('Box Plot of Subscribers')\n",
    "plt.show()"
   ]
  },
  {
   "cell_type": "code",
   "execution_count": null,
   "id": "7be3dde0",
   "metadata": {
    "scrolled": true
   },
   "outputs": [],
   "source": [
    "# Using the IQR to explore outliers\n",
    "print('Using the IQR to find outliers')\n",
    "def find_outliers_IQR(df):\n",
    "    q1 = df.quantile(0.25)\n",
    "    q3 = df.quantile(0.75)\n",
    "    IQR = q3 - q1\n",
    "    outliers = df[((df < (q1 - 1.5 * IQR)) | (df > (q3 + 1.5 * IQR)))]\n",
    "    return outliers\n",
    "\n",
    "\n",
    "outliers = find_outliers_IQR(df[[\"Subscribers\", \"Visits\", \"Likes\", \"Comments\"]])\n",
    "print(\"Number of Outliers: \" + str(len(outliers)))\n",
    "print(\"Max Outlier value: \" + str(outliers.max()))\n",
    "print(\"Min Outlier value: \" + str(outliers.min()))\n",
    "print(outliers)\n",
    "\n",
    "def impute_outliers_IQR(df):\n",
    "    q1 = df.quantile(0.25)\n",
    "    q3 = df.quantile(0.75)\n",
    "    IQR = q3 - q1\n",
    "    upper = q3 + 1.5 * IQR\n",
    "    lower = q1 - 1.5 * IQR\n",
    "    df = np.where((df > upper) | (df < lower), df.median(), df)\n",
    "    return df"
   ]
  },
  {
   "cell_type": "markdown",
   "id": "0ac35f84",
   "metadata": {},
   "source": [
    "### 2. Trend analysis"
   ]
  },
  {
   "cell_type": "code",
   "execution_count": null,
   "id": "f8d6478b",
   "metadata": {},
   "outputs": [],
   "source": [
    "# Count the occurrences of each category\n",
    "print('Trends among the top youtube streamers')\n",
    "df[\"Categories\"].value_counts()"
   ]
  },
  {
   "cell_type": "code",
   "execution_count": null,
   "id": "c34e4406",
   "metadata": {},
   "outputs": [],
   "source": [
    "top_streamers = df.sort_values(by='Subscribers', ascending=False)\n",
    "top_streamers.head()"
   ]
  },
  {
   "cell_type": "code",
   "execution_count": null,
   "id": "a6ea578b",
   "metadata": {
    "scrolled": true
   },
   "outputs": [],
   "source": [
    "# Trend Analysis: Popular Categories\n",
    "plt.figure(figsize=(12, 6))\n",
    "sns.countplot(x='Categories', data=df, order=df['Categories'].value_counts().index)\n",
    "plt.xticks(rotation=45, ha='right')\n",
    "plt.title('Distribution of top Streamers by Category')\n",
    "plt.show()"
   ]
  },
  {
   "cell_type": "code",
   "execution_count": null,
   "id": "90de4a91",
   "metadata": {},
   "outputs": [],
   "source": [
    "# Performance Metrics\n",
    "average_metrics = top_streamers[['Subscribers', 'Visits', 'Likes', 'Comments']].mean()\n",
    "average_metrics.plot(kind='bar', figsize=(10, 6), rot=0)\n",
    "plt.title('Top Streamers Average Performance Metrics')\n",
    "plt.xlabel('Metrics')\n",
    "plt.ylabel('Mean_Value')\n",
    "plt.show()"
   ]
  },
  {
   "cell_type": "code",
   "execution_count": null,
   "id": "9fae1713",
   "metadata": {},
   "outputs": [],
   "source": [
    "# Correlation Analysis: Subscribers vs Likes visualization\n",
    "plt.figure(figsize=(12, 6))\n",
    "sns.scatterplot(x='Subscribers', y='Likes', data=df)\n",
    "plt.title('Correlation between Subscribers and Likes')\n",
    "plt.xlabel('Subscribers')\n",
    "plt.ylabel('Likes')\n",
    "plt.show()"
   ]
  },
  {
   "cell_type": "code",
   "execution_count": null,
   "id": "6e234050",
   "metadata": {
    "scrolled": true
   },
   "outputs": [],
   "source": [
    "# Correlation Analysis: Subscribers vs Comments visualization\n",
    "plt.figure(figsize=(12, 6))\n",
    "sns.scatterplot(x='Subscribers', y='Comments', data=df)\n",
    "plt.title('Correlation between Subscribers and Comments')\n",
    "plt.xlabel('Subscribers')\n",
    "plt.ylabel('Comments')\n",
    "plt.show()"
   ]
  },
  {
   "cell_type": "code",
   "execution_count": null,
   "id": "dc00ee1f",
   "metadata": {
    "scrolled": true
   },
   "outputs": [],
   "source": [
    "# Correlation between the number of sucscribers and the number of likes and comments\n",
    "correl = df['Subscribers'].corr(df['Likes'])\n",
    "print(\"Correlation between Number of Subscribers and Likes:\\n\", correl)\n",
    "\n",
    "correl = df['Subscribers'].corr(df['Comments'])\n",
    "print(\"Correlation between Number of Subscribers and Comments:\\n\", correl)\n",
    "\n",
    "# Correlation matrix\n",
    "correlation_matrix = df[['Subscribers', 'Visits', 'Likes', 'Comments']].corr()\n",
    "\n",
    "# Visualize the correlation matrix\n",
    "plt.figure(figsize=(8, 6))\n",
    "sns.heatmap(correlation_matrix, annot=True, cmap='YlGnBu', fmt='.2f')\n",
    "plt.title('Correlation matrix')\n",
    "plt.show()"
   ]
  },
  {
   "cell_type": "markdown",
   "id": "764270c3",
   "metadata": {},
   "source": [
    "### 3. Audience study"
   ]
  },
  {
   "cell_type": "code",
   "execution_count": null,
   "id": "c04543f6",
   "metadata": {},
   "outputs": [],
   "source": [
    "# Count the occurrences of each country\n",
    "country_counts = df['Country'].value_counts()\n",
    "\n",
    "# Group by Country and calculate mean\n",
    "country_stats = df.groupby('Country')['Subscribers'].mean()\n",
    "\n",
    "# Display the statistics for audience distribution by country\n",
    "print(country_stats)"
   ]
  },
  {
   "cell_type": "code",
   "execution_count": null,
   "id": "c621729a",
   "metadata": {},
   "outputs": [],
   "source": [
    "# Distribution of Audiences by Country visualization\n",
    "plt.figure(figsize=(12, 6))\n",
    "sns.countplot(x='Country', data=df, order=df['Country'].value_counts().index)\n",
    "plt.xticks(rotation=45, ha='right')\n",
    "plt.title('Distribution of Audiences by Country')\n",
    "plt.show()\n",
    "\n",
    "region_category_stats = df.groupby(['Country', 'Categories'])['Subscribers'].mean().unstack()\n",
    "# Display the statistics for audience distribution by country and category\n",
    "print(region_category_stats)\n",
    "\n",
    "# Regional Preferences for Content Categories\n",
    "plt.figure(figsize=(14, 8))\n",
    "sns.heatmap(pd.crosstab(df['Categories'], df['Country'], normalize='index'), cmap='viridis', annot=True, fmt=\".2f\", linewidths=.5)\n",
    "plt.title('Regional Preferences for Content Categories')\n",
    "plt.xlabel('Country')\n",
    "plt.ylabel('Content Category')\n",
    "plt.show()"
   ]
  },
  {
   "cell_type": "markdown",
   "id": "0a459cc0",
   "metadata": {},
   "source": [
    "### 4. Performance metrics"
   ]
  },
  {
   "cell_type": "code",
   "execution_count": null,
   "id": "2b529268",
   "metadata": {},
   "outputs": [],
   "source": [
    "# Calculate the average metrics\n",
    "average_metrics = df[['Subscribers', 'Visits', 'Likes', 'Comments']].mean()"
   ]
  },
  {
   "cell_type": "code",
   "execution_count": null,
   "id": "44201c38",
   "metadata": {},
   "outputs": [],
   "source": [
    "# Display average metrics\n",
    "print(\"Average Subscribers:\", average_metrics['Subscribers'])\n",
    "print(\"Average Visits:\", average_metrics['Visits'])\n",
    "print(\"Average Likes:\", average_metrics['Likes'])\n",
    "print(\"Average Comments:\", average_metrics['Comments'])"
   ]
  },
  {
   "cell_type": "code",
   "execution_count": null,
   "id": "e6f8a2c6",
   "metadata": {},
   "outputs": [],
   "source": [
    "# Average metrics visualization\n",
    "plt.figure(figsize=(10, 6))\n",
    "sns.barplot(x=average_metrics.index, y=average_metrics.values, palette='Set2')\n",
    "plt.title('Average Performance Metrics')\n",
    "plt.ylabel('Average Count')\n",
    "plt.show()"
   ]
  },
  {
   "cell_type": "markdown",
   "id": "20c2161b",
   "metadata": {},
   "source": [
    "### 5. Content categories"
   ]
  },
  {
   "cell_type": "code",
   "execution_count": null,
   "id": "aa20ede6",
   "metadata": {},
   "outputs": [],
   "source": [
    "# Explore the distribution of content categories\n",
    "category_distribution = df['Categories'].value_counts()"
   ]
  },
  {
   "cell_type": "code",
   "execution_count": null,
   "id": "387f26f7",
   "metadata": {},
   "outputs": [],
   "source": [
    "# Number of streamers per category\n",
    "print(\"Number of streamers per category:\")\n",
    "print(category_distribution)"
   ]
  },
  {
   "cell_type": "code",
   "execution_count": null,
   "id": "aa745ccf",
   "metadata": {},
   "outputs": [],
   "source": [
    "# Visualize the distribution of content categories\n",
    "plt.figure(figsize=(12, 6))\n",
    "sns.countplot(x='Categories', data=df, order=df['Categories'].value_counts().index, palette='viridis')\n",
    "plt.title('Distribution of Content Categories')\n",
    "plt.xlabel('Categories')\n",
    "plt.ylabel('Number of Streamers')\n",
    "plt.xticks(rotation=45, ha='right')\n",
    "plt.show()"
   ]
  },
  {
   "cell_type": "code",
   "execution_count": null,
   "id": "30089594",
   "metadata": {},
   "outputs": [],
   "source": [
    "# Explore performance metrics across content categories\n",
    "performance_metrics = ['Subscribers', 'Visits', 'Likes', 'Comments']\n",
    "\n",
    "plt.figure(figsize=(16, 8))\n",
    "\n",
    "for metric in performance_metrics:\n",
    "    plt.subplot(2, 2, performance_metrics.index(metric) + 1)\n",
    "    sns.barplot(x='Categories', y=metric, data=df, ci=None, palette='viridis')\n",
    "    plt.title(f'Average {metric} by Category')\n",
    "    plt.xlabel('Categories')\n",
    "    plt.ylabel(f'Average {metric}')\n",
    "    plt.xticks(rotation=45, ha='right')\n",
    "\n",
    "plt.tight_layout(pad=2)\n",
    "plt.show()"
   ]
  },
  {
   "cell_type": "code",
   "execution_count": null,
   "id": "028ad490",
   "metadata": {},
   "outputs": [],
   "source": [
    "for metric in performance_metrics:\n",
    "    # Calculate average metric per category\n",
    "    avg_metric_per_category = df.groupby('Categories')[metric].mean()\n",
    "\n",
    "    threshold_value = 20000\n",
    "\n",
    "    # Identify categories with exceptional performance (e.g., above a certain threshold)\n",
    "    exceptional_categories = avg_metric_per_category[avg_metric_per_category > threshold_value]\n",
    "\n",
    "    # Display the results\n",
    "    print(f\"\\nCategories with exceptional {metric} performance:\")\n",
    "    print(exceptional_categories.sort_values(ascending=False))"
   ]
  },
  {
   "cell_type": "markdown",
   "id": "d6a761ab",
   "metadata": {},
   "source": [
    "### 6. Brands and Collaborations:"
   ]
  },
  {
   "cell_type": "code",
   "execution_count": null,
   "id": "0dc0d31a",
   "metadata": {},
   "outputs": [],
   "source": [
    "# 6 - Brands and Collaborations\n",
    "df_cleaned = df.dropna(subset=['Visits', 'Subscribers'])\n",
    "print(df_cleaned[['Visits', 'Subscribers']].dtypes)\n",
    "\n",
    "df_cleaned['Visits'] = pd.to_numeric(df_cleaned['Visits'], errors='coerce')\n",
    "df_cleaned['Subscribers'] = pd.to_numeric(df_cleaned['Subscribers'], errors='coerce')"
   ]
  },
  {
   "cell_type": "code",
   "execution_count": null,
   "id": "9c749888",
   "metadata": {},
   "outputs": [],
   "source": [
    "# Scatter plot of performance metrics vs. brand collaborations\n",
    "plt.figure(figsize=(12, 8))\n",
    "plt.scatter(df_cleaned['Visits'], df_cleaned['Subscribers'], c='darkblue', alpha=0.5)\n",
    "plt.title('Performance Metrics vs. Brand Collaborations')\n",
    "plt.xlabel('Visits')\n",
    "plt.ylabel('Brand Collaborations')\n",
    "plt.show()"
   ]
  },
  {
   "cell_type": "code",
   "execution_count": null,
   "id": "b81be41e",
   "metadata": {},
   "outputs": [],
   "source": [
    "# Calculate correlation coefficients\n",
    "correlation_visits_links = df_cleaned['Visits'].corr(df_cleaned['Subscribers'])\n",
    "print(f\"Correlation between Visits and Brand Collaborations: {correlation_visits_links}\")"
   ]
  },
  {
   "cell_type": "markdown",
   "id": "a5aa5984",
   "metadata": {},
   "source": [
    "### 7. Benchmarking "
   ]
  },
  {
   "cell_type": "code",
   "execution_count": null,
   "id": "67c6cf00",
   "metadata": {},
   "outputs": [],
   "source": [
    "# Average values for each performance metric\n",
    "average_subscribers = df['Subscribers'].mean()\n",
    "average_visits = df['Visits'].mean()\n",
    "average_likes = df['Likes'].mean()\n",
    "average_comments = df['Comments'].mean()"
   ]
  },
  {
   "cell_type": "code",
   "execution_count": null,
   "id": "ed6f1056",
   "metadata": {},
   "outputs": [],
   "source": [
    "# Top-performing content creators\n",
    "top_performers = df[\n",
    "    (df['Subscribers'] > average_subscribers) &\n",
    "    (df['Visits'] > average_visits) &\n",
    "    (df['Likes'] > average_likes) &\n",
    "    (df['Comments'] > average_comments)]"
   ]
  },
  {
   "cell_type": "code",
   "execution_count": null,
   "id": "edc0b143",
   "metadata": {},
   "outputs": [],
   "source": [
    "# Top-performing content creators\n",
    "print(\"Top-performing content creators:\")\n",
    "print(top_performers[['Rank', 'Username', 'Categories', 'Subscribers', 'Visits', 'Likes', 'Comments', 'Links']])"
   ]
  },
  {
   "cell_type": "code",
   "execution_count": null,
   "id": "03547008",
   "metadata": {},
   "outputs": [],
   "source": []
  },
  {
   "cell_type": "code",
   "execution_count": null,
   "id": "5672bf9c",
   "metadata": {},
   "outputs": [],
   "source": []
  },
  {
   "cell_type": "code",
   "execution_count": null,
   "id": "d3c6e2ac",
   "metadata": {},
   "outputs": [],
   "source": []
  },
  {
   "cell_type": "code",
   "execution_count": null,
   "id": "65555956",
   "metadata": {},
   "outputs": [],
   "source": []
  },
  {
   "cell_type": "code",
   "execution_count": null,
   "id": "0be6bcda",
   "metadata": {},
   "outputs": [],
   "source": []
  },
  {
   "cell_type": "code",
   "execution_count": null,
   "id": "56a782ff",
   "metadata": {},
   "outputs": [],
   "source": []
  },
  {
   "cell_type": "code",
   "execution_count": null,
   "id": "77d68caa",
   "metadata": {},
   "outputs": [],
   "source": []
  },
  {
   "cell_type": "code",
   "execution_count": null,
   "id": "aaef4e1d",
   "metadata": {},
   "outputs": [],
   "source": []
  },
  {
   "cell_type": "code",
   "execution_count": null,
   "id": "185691d1",
   "metadata": {},
   "outputs": [],
   "source": []
  },
  {
   "cell_type": "code",
   "execution_count": null,
   "id": "28c569b2",
   "metadata": {},
   "outputs": [],
   "source": []
  },
  {
   "cell_type": "code",
   "execution_count": null,
   "id": "bf8e8292",
   "metadata": {},
   "outputs": [],
   "source": []
  },
  {
   "cell_type": "code",
   "execution_count": null,
   "id": "1cc0ef37",
   "metadata": {},
   "outputs": [],
   "source": []
  },
  {
   "cell_type": "code",
   "execution_count": null,
   "id": "14342bbf",
   "metadata": {},
   "outputs": [],
   "source": []
  },
  {
   "cell_type": "code",
   "execution_count": null,
   "id": "b6635fcc",
   "metadata": {},
   "outputs": [],
   "source": []
  },
  {
   "cell_type": "code",
   "execution_count": null,
   "id": "1e3176cd",
   "metadata": {},
   "outputs": [],
   "source": []
  },
  {
   "cell_type": "code",
   "execution_count": null,
   "id": "cf60a8d3",
   "metadata": {},
   "outputs": [],
   "source": []
  },
  {
   "cell_type": "code",
   "execution_count": null,
   "id": "2e022b09",
   "metadata": {},
   "outputs": [],
   "source": []
  },
  {
   "cell_type": "code",
   "execution_count": null,
   "id": "28392851",
   "metadata": {},
   "outputs": [],
   "source": []
  },
  {
   "cell_type": "code",
   "execution_count": null,
   "id": "74f4291f",
   "metadata": {},
   "outputs": [],
   "source": []
  },
  {
   "cell_type": "code",
   "execution_count": null,
   "id": "38d2edbe",
   "metadata": {},
   "outputs": [],
   "source": []
  },
  {
   "cell_type": "code",
   "execution_count": null,
   "id": "74303ad2",
   "metadata": {},
   "outputs": [],
   "source": []
  },
  {
   "cell_type": "code",
   "execution_count": null,
   "id": "bfa0698b",
   "metadata": {},
   "outputs": [],
   "source": []
  },
  {
   "cell_type": "code",
   "execution_count": null,
   "id": "150edac9",
   "metadata": {},
   "outputs": [],
   "source": []
  },
  {
   "cell_type": "code",
   "execution_count": null,
   "id": "d71706dc",
   "metadata": {},
   "outputs": [],
   "source": []
  },
  {
   "cell_type": "code",
   "execution_count": null,
   "id": "7bdfd385",
   "metadata": {},
   "outputs": [],
   "source": []
  },
  {
   "cell_type": "code",
   "execution_count": null,
   "id": "8bde3f99",
   "metadata": {},
   "outputs": [],
   "source": []
  },
  {
   "cell_type": "code",
   "execution_count": null,
   "id": "0477fc93",
   "metadata": {},
   "outputs": [],
   "source": []
  },
  {
   "cell_type": "code",
   "execution_count": null,
   "id": "54a3f494",
   "metadata": {},
   "outputs": [],
   "source": []
  },
  {
   "cell_type": "code",
   "execution_count": null,
   "id": "5c5b94ff",
   "metadata": {},
   "outputs": [],
   "source": []
  },
  {
   "cell_type": "code",
   "execution_count": null,
   "id": "80624ee1",
   "metadata": {},
   "outputs": [],
   "source": []
  },
  {
   "cell_type": "code",
   "execution_count": null,
   "id": "6a0ad82b",
   "metadata": {},
   "outputs": [],
   "source": []
  },
  {
   "cell_type": "code",
   "execution_count": null,
   "id": "bd70b06f",
   "metadata": {},
   "outputs": [],
   "source": []
  },
  {
   "cell_type": "code",
   "execution_count": null,
   "id": "79e852e1",
   "metadata": {},
   "outputs": [],
   "source": []
  },
  {
   "cell_type": "code",
   "execution_count": null,
   "id": "9402deeb",
   "metadata": {},
   "outputs": [],
   "source": []
  },
  {
   "cell_type": "code",
   "execution_count": null,
   "id": "89e8efd2",
   "metadata": {},
   "outputs": [],
   "source": []
  },
  {
   "cell_type": "code",
   "execution_count": null,
   "id": "b6113587",
   "metadata": {},
   "outputs": [],
   "source": []
  },
  {
   "cell_type": "code",
   "execution_count": null,
   "id": "691643d0",
   "metadata": {},
   "outputs": [],
   "source": []
  },
  {
   "cell_type": "code",
   "execution_count": null,
   "id": "ea38e1cd",
   "metadata": {},
   "outputs": [],
   "source": []
  },
  {
   "cell_type": "code",
   "execution_count": null,
   "id": "f0f9410e",
   "metadata": {},
   "outputs": [],
   "source": []
  }
 ],
 "metadata": {
  "kernelspec": {
   "display_name": "Python 3 (ipykernel)",
   "language": "python",
   "name": "python3"
  },
  "language_info": {
   "codemirror_mode": {
    "name": "ipython",
    "version": 3
   },
   "file_extension": ".py",
   "mimetype": "text/x-python",
   "name": "python",
   "nbconvert_exporter": "python",
   "pygments_lexer": "ipython3",
   "version": "3.11.5"
  }
 },
 "nbformat": 4,
 "nbformat_minor": 5
}
